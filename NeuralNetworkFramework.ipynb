{
 "cells": [
  {
   "cell_type": "code",
   "execution_count": 18,
   "metadata": {},
   "outputs": [],
   "source": [
    "import numpy as np"
   ]
  },
  {
   "cell_type": "code",
   "execution_count": 19,
   "metadata": {},
   "outputs": [],
   "source": [
    "class Neuron:\n",
    "\n",
    "    def __init__(self, bias = 0, weights = [], learning_rate = 0.01):\n",
    "        #bias not yet implemented \n",
    "        self.bias  = bias\n",
    "        self.weights = weights\n",
    "        self.learning_rate = learning_rate\n",
    "\n",
    "    def predict(self, x):\n",
    "\n",
    "        if len(x) != len(self.weights):\n",
    "            raise Exception(\"Vector dimensions do not match, expected \" +  str(len(self.weights)) + \", got \" + str(len(x)))\n",
    "\n",
    "        prediction = np.inner(x, self.weights) + self.bias\n",
    "        return prediction\n",
    "        \n",
    "    def train(self, x, y):\n",
    "\n",
    "        prediction = self.predict(x)\n",
    "\n",
    "        print(\"prediction:\", prediction)\n",
    "\n",
    "        loss = prediction - y\n",
    "\n",
    "        print(\"loss:\", loss)\n",
    "\n",
    "        gradient = np.dot(x, loss)\n",
    "        \n",
    "        self.weights = self.weights - self.learning_rate * gradient\n",
    "\n",
    "    def relu(x):\n",
    "        return (x > 0) * x\n",
    "        \n"
   ]
  },
  {
   "cell_type": "code",
   "execution_count": 20,
   "metadata": {},
   "outputs": [
    {
     "name": "stdout",
     "output_type": "stream",
     "text": [
      "prediction: 23.25\n",
      "loss: 13.25\n",
      "prediction: 20.906075\n",
      "loss: 10.906075000000001\n",
      "prediction: 18.976790332500002\n",
      "loss: 8.976790332500002\n",
      "prediction: 17.388796122680752\n",
      "loss: 7.388796122680752\n",
      "prediction: 16.081718088578526\n",
      "loss: 6.081718088578526\n",
      "prediction: 15.005862158708986\n",
      "loss: 5.005862158708986\n",
      "prediction: 14.120325142833366\n",
      "loss: 4.120325142833366\n",
      "prediction: 13.391439625066145\n",
      "loss: 3.3914396250661447\n",
      "prediction: 12.791493955391942\n",
      "loss: 2.7914939553919424\n",
      "prediction: 12.297678674683109\n",
      "loss: 2.297678674683109\n",
      "prediction: 11.891219317131666\n",
      "loss: 1.8912193171316662\n",
      "prediction: 11.556662619931075\n",
      "loss: 1.5566626199310747\n",
      "prediction: 11.281289002465266\n",
      "loss: 1.2812890024652663\n",
      "prediction: 11.054628977929163\n",
      "loss: 1.0546289779291627\n",
      "prediction: 10.868065111733493\n",
      "loss: 0.8680651117334932\n",
      "prediction: 10.714504393467838\n",
      "loss: 0.7145043934678377\n",
      "prediction: 10.588108566263378\n",
      "loss: 0.5881085662633776\n",
      "prediction: 10.484072160891385\n",
      "loss: 0.48407216089138494\n",
      "prediction: 10.3984397956297\n",
      "loss: 0.39843979562970055\n",
      "prediction: 10.327955795782806\n",
      "loss: 0.3279557957828061\n"
     ]
    }
   ],
   "source": [
    "neuron = Neuron(weights=[1.5, 2.3, 6.7])\n",
    "\n",
    "for iteration in range(20):\n",
    "    neuron.train([1.2, 3.5, 2.0], 10)"
   ]
  },
  {
   "cell_type": "code",
   "execution_count": null,
   "metadata": {},
   "outputs": [],
   "source": []
  }
 ],
 "metadata": {
  "kernelspec": {
   "display_name": "Python 3.8.2 32-bit",
   "language": "python",
   "name": "python3"
  },
  "language_info": {
   "codemirror_mode": {
    "name": "ipython",
    "version": 3
   },
   "file_extension": ".py",
   "mimetype": "text/x-python",
   "name": "python",
   "nbconvert_exporter": "python",
   "pygments_lexer": "ipython3",
   "version": "3.8.2"
  },
  "orig_nbformat": 4,
  "vscode": {
   "interpreter": {
    "hash": "21fbeadf731f4d470b7a4df5f851ff24d0563b6cf76ab7eecaaba8ca027f9282"
   }
  }
 },
 "nbformat": 4,
 "nbformat_minor": 2
}
